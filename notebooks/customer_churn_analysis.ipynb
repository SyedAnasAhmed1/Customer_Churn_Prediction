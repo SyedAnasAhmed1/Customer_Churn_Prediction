{
 "cells": [
  {
   "cell_type": "code",
   "execution_count": null,
   "id": "5ccfed9f",
   "metadata": {},
   "outputs": [],
   "source": [
    "import os\n",
    "import pandas as pd\n",
    "from sklearn.model_selection import train_test_split\n",
    "import matplotlib.pyplot as plt\n",
    "import seaborn as sns"
   ]
  },
  {
   "cell_type": "code",
   "execution_count": null,
   "id": "7cdd2f4a",
   "metadata": {},
   "outputs": [],
   "source": [
    "sns.set_style(\"whitegrid\")\n",
    "plt.style.use(\"seaborn-v0_8-whitegrid\")"
   ]
  },
  {
   "cell_type": "code",
   "execution_count": null,
   "id": "25cc3556",
   "metadata": {},
   "outputs": [],
   "source": [
    "try:\n",
    "    df = pd.read_csv('C:/Customer_Churn_Prediction/Data/telco_churn_to_predict.csv', encoding='utf-8')\n",
    "    print(\"Data loaded successfully.\")\n",
    "except FileNotFoundError:\n",
    "    print(\"Error: The file 'telco_churn_to_predict.csv' was not found.\")\n",
    "    print(\"Please make sure the file is in a folder named 'Data' in your project directory.\")\n",
    "    df = None"
   ]
  },
  {
   "cell_type": "code",
   "execution_count": null,
   "id": "c41d85e9",
   "metadata": {},
   "outputs": [],
   "source": [
    "if df is not None:\n",
    "    print(\"\\nFirst 5 Rows of the Data Set:\")\n",
    "    print(df.head())\n",
    "    \n",
    "    print(\"\\nData Information:\")\n",
    "    df.info()"
   ]
  },
  {
   "cell_type": "code",
   "execution_count": null,
   "id": "65db6550",
   "metadata": {},
   "outputs": [],
   "source": [
    "df['total_charges'] = pd.to_numeric(df['total_charges'], errors='coerce')\n",
    "df.dropna(subset=['total_charges'], inplace=True)\n",
    "df.reset_index(drop=True, inplace=True)\n",
    "print(\"\\nDataFrame information after converting 'total_charges':\")\n",
    "df.info()\n",
    "print(f\"\\nNumber of rows after dropping missing values: {len(df)}\")"
   ]
  },
  {
   "cell_type": "code",
   "execution_count": null,
   "id": "2c886e19",
   "metadata": {},
   "outputs": [],
   "source": [
    "categorical_cols = df.select_dtypes(include=['object']).columns.tolist()\n",
    "cols_to_encode = [col for col in categorical_cols if col not in ['customer_id', 'churn_label']]\n",
    "df_encoded = pd.get_dummies(df, columns=cols_to_encode, drop_first=True, dtype=int)\n",
    "print(f\"\\nDataFrame shape after one-hot encoding: {df_encoded.shape}\")\n",
    "print(\"\\nFirst 5 rows of the dataset after one-hot encoding:\")\n",
    "print(df_encoded.head())"
   ]
  },
  {
   "cell_type": "code",
   "execution_count": null,
   "id": "e30cb399",
   "metadata": {},
   "outputs": [],
   "source": [
    "churn_counts = df_encoded['churn_label'].value_counts()\n",
    "churn_percentages = df_encoded['churn_label'].value_counts(normalize=True) * 100\n",
    "print(\"\\nDistribution of Churn Labels:\")\n",
    "print(\"0 = No Churn\")\n",
    "print(\"1 = Churn\")\n",
    "print(churn_counts)\n",
    "print(\"\\nPercentage of Churn Labels:\")\n",
    "print(churn_percentages.round(2))\n",
    "\n",
    "plt.figure(figsize=(6, 4))\n",
    "churn_counts.plot(kind='bar', color=['skyblue', 'salmon'])\n",
    "plt.title('Distribution of Churn Labels')\n",
    "plt.xlabel('Churn Label (0 = No, 1 = Yes)')\n",
    "plt.ylabel('Number of Customers')\n",
    "plt.xticks(ticks=[0, 1], labels=['No Churn', 'Churn'], rotation=0)\n",
    "plt.show()"
   ]
  },
  {
   "cell_type": "code",
   "execution_count": null,
   "id": "02170b06",
   "metadata": {},
   "outputs": [],
   "source": [
    "X = df_encoded.drop(columns=['customer_id', 'churn_label'])\n",
    "\n",
    "y = df_encoded['churn_label']\n",
    "\n",
    "X_train, X_test, y_train, y_test = train_test_split(X, y, test_size=0.2, random_state=42)\n",
    "\n",
    "# Step 3: Verify the split\n",
    "print(\"\\n--- Data Split Summary ---\")\n",
    "print(\"Original DataFrame shape:\", df_encoded.shape)\n",
    "print(\"Shape of X_train:\", X_train.shape)\n",
    "print(\"Shape of X_test:\", X_test.shape)\n",
    "print(\"Shape of y_train:\", y_train.shape)\n",
    "print(\"Shape of y_test:\", y_test.shape)"
   ]
  }
 ],
 "metadata": {
  "kernelspec": {
   "display_name": "Python 3",
   "language": "python",
   "name": "python3"
  },
  "language_info": {
   "codemirror_mode": {
    "name": "ipython",
    "version": 3
   },
   "file_extension": ".py",
   "mimetype": "text/x-python",
   "name": "python",
   "nbconvert_exporter": "python",
   "pygments_lexer": "ipython3",
   "version": "3.13.5"
  }
 },
 "nbformat": 4,
 "nbformat_minor": 5
}
