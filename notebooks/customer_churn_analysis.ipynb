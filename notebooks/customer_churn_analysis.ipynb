{
 "cells": [
  {
   "cell_type": "code",
   "execution_count": null,
   "id": "5ccfed9f",
   "metadata": {},
   "outputs": [],
   "source": [
    "import os \n",
    "import pandas as pd"
   ]
  },
  {
   "cell_type": "code",
   "execution_count": null,
   "id": "25cc3556",
   "metadata": {},
   "outputs": [],
   "source": [
    "file_path = os.path.join(os.pardir,\"Data\",\"telco_churn_to_predict.csv\")"
   ]
  },
  {
   "cell_type": "code",
   "execution_count": null,
   "id": "c41d85e9",
   "metadata": {},
   "outputs": [],
   "source": [
    "try:\n",
    "    df = pd.read_csv(\"C:/Telco_Customer_Churn_Prediction/Data/telco_churn_to_predict.csv\",encoding = 'utf-8')\n",
    "    print(\"Data Loaded Succesfully\")\n",
    "except FileNotFoundError:\n",
    "    print(f\"Error: The file was not found at {file_path}.\")\n",
    "    print(\"Please make sure 'telco_churn_to_predict.csv' is in the correct 'data' folder.\")\n",
    "    df = None"
   ]
  },
  {
   "cell_type": "code",
   "execution_count": null,
   "id": "169ca4ed",
   "metadata": {},
   "outputs": [],
   "source": [
    "if df is not None:\n",
    "    print(\"\\nFirst 5 Rows of the Data Set\")\n",
    "    print(df.head())\n",
    "    \n",
    "    print(\"\\n Data Information\")\n",
    "    df.info()"
   ]
  },
  {
   "cell_type": "code",
   "execution_count": null,
   "id": "65db6550",
   "metadata": {},
   "outputs": [],
   "source": [
    "df['offer'] = df['offer'].fillna('None')\n",
    "df['internet_type'] = df['internet_type'].fillna('No Internet')\n",
    "print(\"Non-Null After Handling Missing Values\")\n",
    "df.info()"
   ]
  },
  {
   "cell_type": "code",
   "execution_count": null,
   "id": "6d26d702",
   "metadata": {},
   "outputs": [],
   "source": [
    "#df['total_charges'].unique()"
   ]
  },
  {
   "cell_type": "code",
   "execution_count": null,
   "id": "2c886e19",
   "metadata": {},
   "outputs": [],
   "source": [
    "df['total_charges'] = pd.to_numeric(df['total_charges'], errors ='coerce')\n",
    "df.dropna(subset=['total_charges'], inplace = True)\n",
    "\n",
    "print(\"DataFrame information after converting 'total_charges':\")\n",
    "df.info()\n",
    "\n",
    "print(f\"\\nNumber of rows after dropping missing values: {len(df)}\")"
   ]
  },
  {
   "cell_type": "code",
   "execution_count": null,
   "id": "e30cb399",
   "metadata": {},
   "outputs": [],
   "source": [
    "categorical_cols = df.select_dtypes(include = ['object']).columns\n",
    "print(\"Categorical columns to be encoded:\")\n",
    "print(categorical_cols)\n",
    "\n",
    "df = pd.get_dummies(df , columns = categorical_cols, drop_first =True, dtype = int )\n",
    "print(f\"\\nDataFrame shape after one-hot encoding: {df.shape}\")\n",
    "\n",
    "print(\"\\nFirst 5 rows of the dataset after one-hot encoding:\")\n",
    "print(df.head())"
   ]
  },
  {
   "cell_type": "code",
   "execution_count": null,
   "id": "02170b06",
   "metadata": {},
   "outputs": [],
   "source": [
    "# Import the visualization library matplotlib.\n",
    "import matplotlib.pyplot as plt\n",
    "\n",
    "# Get the count of each unique value in the 'churn_label' column.\n",
    "# Note: The original 'churn_label' column was one-hot encoded and is now 'churn_label_Yes'.\n",
    "churn_counts = df['churn_label_Yes'].value_counts()\n",
    "\n",
    "# Print the counts.\n",
    "print(\"Count of Churn Labels:\")\n",
    "print(\"0 = No Churn\")\n",
    "print(\"1 = Churn\")\n",
    "print(churn_counts)\n",
    "\n",
    "# Calculate the percentages.\n",
    "churn_percentages = df['churn_label_Yes'].value_counts(normalize=True) * 100\n",
    "\n",
    "# Print the percentages, rounded to 2 decimal places.\n",
    "print(\"\\nPercentage of Churn Labels:\")\n",
    "print(churn_percentages.round(2))\n",
    "\n",
    "# Create a bar chart to visualize the distribution.\n",
    "plt.figure(figsize=(6, 4))\n",
    "churn_counts.plot(kind='bar', color=['skyblue', 'salmon'])\n",
    "plt.title('Distribution of Churn Labels')\n",
    "plt.xlabel('Churn Label (0 = No, 1 = Yes)')\n",
    "plt.ylabel('Number of Customers')\n",
    "plt.xticks(rotation=0)\n",
    "plt.show()"
   ]
  },
  {
   "cell_type": "code",
   "execution_count": null,
   "id": "d0c15df5",
   "metadata": {},
   "outputs": [],
   "source": [
    "# Create a figure with two subplots side-by-side.\n",
    "fig, axes = plt.subplots(1, 2, figsize=(15, 6))\n",
    "\n",
    "# Plot a histogram for 'monthly_charge'.\n",
    "axes[0].hist(df['monthly_charge'], bins=30, color='skyblue', edgecolor='black')\n",
    "axes[0].set_title('Distribution of Monthly Charges')\n",
    "axes[0].set_xlabel('Monthly Charge ($)')\n",
    "axes[0].set_ylabel('Number of Customers')\n",
    "\n",
    "# Plot a box plot for 'monthly_charge' on the second subplot.\n",
    "axes[1].boxplot(df['monthly_charge'])\n",
    "axes[1].set_title('Monthly Charges Box Plot')\n",
    "axes[1].set_ylabel('Monthly Charge ($)')\n",
    "\n",
    "plt.tight_layout()\n",
    "plt.show()\n",
    "\n",
    "# Create a new figure for 'tenure_in_months'.\n",
    "fig, axes = plt.subplots(1, 2, figsize=(15, 6))\n",
    "\n",
    "# Plot a histogram for 'tenure_in_months'.\n",
    "axes[0].hist(df['tenure_in_months'], bins=30, color='lightgreen', edgecolor='black')\n",
    "axes[0].set_title('Distribution of Tenure in Months')\n",
    "axes[0].set_xlabel('Tenure (Months)')\n",
    "axes[0].set_ylabel('Number of Customers')\n",
    "\n",
    "# Plot a box plot for 'tenure_in_months' on the second subplot.\n",
    "axes[1].boxplot(df['tenure_in_months'])\n",
    "axes[1].set_title('Tenure in Months Box Plot')\n",
    "axes[1].set_ylabel('Tenure (Months)')\n",
    "\n",
    "plt.tight_layout()\n",
    "plt.show()\n"
   ]
  }
 ],
 "metadata": {
  "kernelspec": {
   "display_name": "Python 3",
   "language": "python",
   "name": "python3"
  },
  "language_info": {
   "codemirror_mode": {
    "name": "ipython",
    "version": 3
   },
   "file_extension": ".py",
   "mimetype": "text/x-python",
   "name": "python",
   "nbconvert_exporter": "python",
   "pygments_lexer": "ipython3",
   "version": "3.13.5"
  }
 },
 "nbformat": 4,
 "nbformat_minor": 5
}
